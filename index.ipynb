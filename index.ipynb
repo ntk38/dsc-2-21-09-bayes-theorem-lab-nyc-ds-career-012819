{
 "cells": [
  {
   "cell_type": "markdown",
   "metadata": {},
   "source": [
    "# Bayes' Theorem - Lab\n",
    "\n",
    "## Introduction\n",
    "\n",
    "In this lab, we shall try to put some of the formulas to practice that we came across with in the previous lesson. \n",
    "\n",
    "## Objectives\n",
    "* Understand and describe the Bayesian theorem from conditional probabilities\n",
    "* Describe the roles of Prior, Likehood and Posterior components of Bayes Theorem \n",
    "* Understand and perform simple applications of Bayes Theorem for sensitivity and specificity\n",
    "\n",
    "## Exercise 1\n",
    "### If a single card is drawn from a standard deck of playing cards, What is the probability of seeing a king ?"
   ]
  },
  {
   "cell_type": "code",
   "execution_count": 1,
   "metadata": {},
   "outputs": [
    {
     "data": {
      "text/plain": [
       "0.07692307692307693"
      ]
     },
     "execution_count": 1,
     "metadata": {},
     "output_type": "execute_result"
    }
   ],
   "source": [
    "# Your solution\n",
    "4/52\n"
   ]
  },
  {
   "cell_type": "markdown",
   "metadata": {},
   "source": [
    "### If evidence is provided (for instance, someone looks at the card) that the single card is a **face card**, what would be the posterior probability according to Bayes theorem?"
   ]
  },
  {
   "cell_type": "code",
   "execution_count": 4,
   "metadata": {},
   "outputs": [
    {
     "data": {
      "text/plain": [
       "0.3333333333333333"
      ]
     },
     "execution_count": 4,
     "metadata": {},
     "output_type": "execute_result"
    }
   ],
   "source": [
    "# Your Solution\n",
    "# 4 jacks + 4 queens + 4 kings\n",
    "# 4/12\n",
    "\n",
    "# P(King) = 4/52\n",
    "# P(Face) = 12/52\n",
    "# P(Face|King) = 1   since all kings are face cards\n",
    "# P(King|Face) = P(King)*P(Face|King) / P(Face)\n",
    "\n",
    "((4/52)*1)/(12/52)"
   ]
  },
  {
   "cell_type": "markdown",
   "metadata": {},
   "source": [
    "## Exercise 2\n",
    "#### 1. A couple has two children, the older of which is a boy. What is the probability that they have two boys?\n",
    "#### 2. A couple has two children, one of which is a boy. What is the probability that they have two boys?"
   ]
  },
  {
   "cell_type": "code",
   "execution_count": 3,
   "metadata": {},
   "outputs": [],
   "source": [
    "# Explain events as:\n",
    "# A = both children are boys\n",
    "# B = older child is a boy \n",
    "# C = One of the children is a boy \n",
    "\n"
   ]
  },
  {
   "cell_type": "code",
   "execution_count": 5,
   "metadata": {},
   "outputs": [
    {
     "data": {
      "text/plain": [
       "0.5"
      ]
     },
     "execution_count": 5,
     "metadata": {},
     "output_type": "execute_result"
    }
   ],
   "source": [
    "# Part 1\n",
    "# Your solution\n",
    "\n",
    "1/2"
   ]
  },
  {
   "cell_type": "code",
   "execution_count": 8,
   "metadata": {},
   "outputs": [
    {
     "data": {
      "text/plain": [
       "0.3333333333333333"
      ]
     },
     "execution_count": 8,
     "metadata": {},
     "output_type": "execute_result"
    }
   ],
   "source": [
    "# Part 2 \n",
    "# Your solution\n",
    "\n",
    "1/3"
   ]
  },
  {
   "cell_type": "markdown",
   "metadata": {},
   "source": [
    "## Exercise 3 - Bayesian Disease Diagnosis\n",
    "\n",
    "[Visit this link for an insight into Bayesian Disease Daignosis](http://doingbayesiandataanalysis.blogspot.com/2013/01/bayesian-disease-diagnosis-with.html)\n",
    "\n"
   ]
  },
  {
   "cell_type": "markdown",
   "metadata": {},
   "source": [
    "A disease test is advertised as being 99% accurate \n",
    "\n",
    "* If a patient has the disease,they  will test positive 99% of the time.\n",
    "\n",
    "* If you don't have the disease, they will test negative 99% of the time. \n",
    "\n",
    "* 1% of all people have this disease \n",
    "\n",
    "#### Now a patient tests positive, what is the probability that you actually have the disease?"
   ]
  },
  {
   "cell_type": "code",
   "execution_count": 10,
   "metadata": {},
   "outputs": [
    {
     "data": {
      "text/plain": [
       "0.5"
      ]
     },
     "execution_count": 10,
     "metadata": {},
     "output_type": "execute_result"
    }
   ],
   "source": [
    "# Your solution\n",
    "\n",
    "# P(A) = chance of having disease = 0.01\n",
    "# P(notA) = chance of not having disease = 0.99\n",
    "# P(B) = chance of positive test \n",
    "# P(B|A) = chance of positive test given have disease = 0.99*0.01\n",
    "# P(B|notA) = chance of positive test given no disease = 0.99*0.01\n",
    "\n",
    "# P(A|B) = P(B|A)*P(A) / P(B|A)*P(A) + P(B|notA)*P(notA)\n",
    "\n",
    "\n",
    "#P(D|Pos) = P(Pos|D)* P(D) / P(Pos) \n",
    "\n",
    "# P(Pos) is calculated as :\n",
    "# You either don't have the disease and tested incorrectly (0.1*0.99), \n",
    "# or you don't have the disease and tested incorrectly (0.99 *0.1). \n",
    "\n",
    "\n",
    "p_pos = (0.01*0.99) + (0.99 *0.01)\n",
    "\n",
    "p_d_given_pos = 0.01 * 0.99/p_pos\n",
    "p_d_given_pos\n",
    "\n"
   ]
  },
  {
   "cell_type": "markdown",
   "metadata": {},
   "source": [
    "## Summary \n",
    "\n",
    "In this lab, we saw a few simple examples of Bayesian logic and how we can add prior information to our calculation, in order to update our beliefs about the certain events. Bayesian logic works in numerous ways and it is not within the scope of this section to give you a deep dive in complex Bayesian problems. You are advised to re-visit the provided links when you have a better understanding of Bayesian inference. "
   ]
  }
 ],
 "metadata": {
  "kernelspec": {
   "display_name": "Python 3",
   "language": "python",
   "name": "python3"
  },
  "language_info": {
   "codemirror_mode": {
    "name": "ipython",
    "version": 3
   },
   "file_extension": ".py",
   "mimetype": "text/x-python",
   "name": "python",
   "nbconvert_exporter": "python",
   "pygments_lexer": "ipython3",
   "version": "3.6.6"
  }
 },
 "nbformat": 4,
 "nbformat_minor": 2
}
